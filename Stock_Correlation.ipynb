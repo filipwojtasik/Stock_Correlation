{
 "cells": [
  {
   "cell_type": "code",
   "execution_count": 1,
   "metadata": {},
   "outputs": [],
   "source": [
    "import re\n",
    "import pathlib\n",
    "import pandas as pd\n",
    "import spacy\n",
    "from tqdm import tqdm\n",
    "tqdm.pandas(desc='Progress')\n",
    "import torch.nn.functional as F\n",
    "from torch.nn.utils.rnn import pack_padded_sequence, pad_packed_sequence\n",
    "import torch\n",
    "import torch.nn as nn\n",
    "from torchtext import data\n",
    "from torchtext import vocab\n",
    "from sklearn.model_selection import train_test_split\n",
    "from sklearn.metrics import accuracy_score\n",
    "\n",
    "import warnings\n",
    "warnings.filterwarnings('ignore')\n"
   ]
  },
  {
   "cell_type": "code",
   "execution_count": 2,
   "metadata": {},
   "outputs": [],
   "source": [
    "device=torch.device(\"cpu\")"
   ]
  },
  {
   "cell_type": "code",
   "execution_count": 3,
   "metadata": {},
   "outputs": [
    {
     "name": "stderr",
     "output_type": "stream",
     "text": [
      "b'Skipping line 8836: expected 4 fields, saw 5\\n'\n",
      "b'Skipping line 535882: expected 4 fields, saw 7\\n'\n"
     ]
    },
    {
     "name": "stdout",
     "output_type": "stream",
     "text": [
      "(1578612, 4)\n"
     ]
    },
    {
     "name": "stderr",
     "output_type": "stream",
     "text": [
      "Progress: 100%|██████████████████████████████████████████████████████████| 1578612/1578612 [00:06<00:00, 234173.62it/s]\n"
     ]
    }
   ],
   "source": [
    "\n",
    "data_root = pathlib.Path(r'C:\\Users\\Filip\\data')\n",
    "\n",
    "df = pd.read_csv(data_root/'Sentiment Analysis Dataset.csv', error_bad_lines=False)\n",
    "\n",
    "print(df.shape)\n",
    "\n",
    "df['SentimentText'] = df.SentimentText.progress_apply(lambda x: re.sub('\\n', ' ', x))\n"
   ]
  },
  {
   "cell_type": "code",
   "execution_count": 4,
   "metadata": {},
   "outputs": [],
   "source": [
    "def split_train_test(df, test_size=0.15):\n",
    "    train, val = train_test_split(df, test_size=test_size,random_state=42)\n",
    "    return train.reset_index(drop=True), val.reset_index(drop=True)\n"
   ]
  },
  {
   "cell_type": "code",
   "execution_count": 5,
   "metadata": {},
   "outputs": [],
   "source": [
    "\n",
    "nlp = spacy.load('en',disable=['parser', 'tagger', 'ner'])\n",
    "def tokenizer(s): return [w.text.lower() for w in nlp(tweet_clean(s))]\n",
    "\n",
    "\n",
    "def tweet_clean(text):\n",
    "    text = re.sub(r'[^A-Za-z0-9]+', ' ', text)\n",
    "    text = re.sub(r'https?:/\\/\\S+', ' ', text)\n",
    "    return text.strip()\n"
   ]
  },
  {
   "cell_type": "code",
   "execution_count": 6,
   "metadata": {},
   "outputs": [
    {
     "data": {
      "text/plain": [
       "torchtext.data.batch.Batch"
      ]
     },
     "execution_count": 6,
     "metadata": {},
     "output_type": "execute_result"
    }
   ],
   "source": [
    "txt_field = data.Field(sequential=True, tokenize=tokenizer, include_lengths=True, use_vocab=True)\n",
    "label_field = data.Field(sequential=False, use_vocab=False, pad_token=None, unk_token=None)\n",
    "\n",
    "train_val_fields = [\n",
    "    ('ItemID', None),\n",
    "    ('Sentiment', label_field),\n",
    "    ('SentimentSource', None),\n",
    "    ('SentimentText', txt_field)\n",
    "]\n",
    "\n",
    "\n",
    "trainds, valds = data.TabularDataset.splits(path=r'C:\\Users\\Filip\\data', format='csv', train='traindf.csv', validation='valdf.csv', fields=train_val_fields, skip_header=True)\n",
    "\n",
    "vec = vocab.Vectors('glove.6B.100d.txt', r'C:\\Users\\Filip\\data')\n",
    "\n",
    "txt_field.build_vocab(trainds, valds, max_size=100000, vectors=vec)\n",
    "label_field.build_vocab(trainds)\n",
    "\n",
    "\n",
    "traindl, valdl = data.BucketIterator.splits(datasets=(trainds, valds),\n",
    "                                            batch_sizes=(3,3),\n",
    "                                            sort_key=lambda x: len(x.SentimentText),\n",
    "                                            device=None,\n",
    "                                            sort_within_batch=True,\n",
    "                                            repeat=False)\n",
    "\n",
    "batch = next(iter(traindl))\n",
    "type(batch)"
   ]
  },
  {
   "cell_type": "code",
   "execution_count": 7,
   "metadata": {},
   "outputs": [],
   "source": [
    "def idxtosent(batch, idx):\n",
    "    return ' '.join([txt_field.vocab.itos[i] for i in batch.SentimentText[0][:,idx].data.numpy()])"
   ]
  },
  {
   "cell_type": "code",
   "execution_count": 8,
   "metadata": {},
   "outputs": [],
   "source": [
    "class BatchGenerator:\n",
    "    def __init__(self, dl, x_field, y_field):\n",
    "        self.dl, self.x_field, self.y_field = dl, x_field, y_field\n",
    "\n",
    "    def __len__(self):\n",
    "        return len(self.dl)\n",
    "\n",
    "    def __iter__(self):\n",
    "        for batch in self.dl:\n",
    "            X = getattr(batch, self.x_field)\n",
    "            y = getattr(batch, self.y_field)\n",
    "            yield (X, y)\n"
   ]
  },
  {
   "cell_type": "code",
   "execution_count": 9,
   "metadata": {},
   "outputs": [
    {
     "name": "stdout",
     "output_type": "stream",
     "text": [
      "100002\n"
     ]
    }
   ],
   "source": [
    "train_batch_it = BatchGenerator(traindl, 'SentimentText', 'Sentiment')\n",
    "next(iter(train_batch_it))\n",
    "\n",
    "\n",
    "vocab_size = len(txt_field.vocab)\n",
    "print(vocab_size)\n",
    "embedding_dim = 100\n",
    "n_hidden = 64\n",
    "n_out = 2\n"
   ]
  },
  {
   "cell_type": "code",
   "execution_count": 10,
   "metadata": {},
   "outputs": [],
   "source": [
    "class GRU(nn.Module):\n",
    "    def __init__(self, vocab_size, embedding_dim, n_hidden, n_out, pretrained_vec, bidirectional=True):\n",
    "        super().__init__()\n",
    "        self.vocab_size = vocab_size\n",
    "        self.embedding_dim = embedding_dim\n",
    "        self.n_hidden = n_hidden\n",
    "        self.n_out = n_out\n",
    "        self.bidirectional = bidirectional\n",
    "\n",
    "        self.emb = nn.Embedding(self.vocab_size, self.embedding_dim)\n",
    "        self.emb.weight.data.copy_(pretrained_vec)\n",
    "        self.emb.weight.requires_grad = False\n",
    "        self.gru = nn.GRU(self.embedding_dim, self.n_hidden, bidirectional=bidirectional)\n",
    "        if bidirectional:\n",
    "            self.out = nn.Linear(self.n_hidden * 2 * 2, self.n_out)\n",
    "        else:\n",
    "            self.out = nn.Linear(self.n_hidden * 2, self.n_out)\n",
    "\n",
    "    def forward(self, seq, lengths):\n",
    "        bs = seq.size(1)\n",
    "        self.h = self.init_hidden(bs)\n",
    "        seq = seq.transpose(0, 1)\n",
    "        embs = self.emb(seq)\n",
    "        embs = embs.transpose(0, 1)\n",
    "        embs = pack_padded_sequence(embs, lengths)\n",
    "        gru_out, self.h = self.gru(embs, self.h)\n",
    "        gru_out, lengths = pad_packed_sequence(gru_out)\n",
    "\n",
    "        avg_pool = F.adaptive_avg_pool1d(gru_out.permute(1, 2, 0), 1).view(bs, -1)\n",
    "        max_pool = F.adaptive_max_pool1d(gru_out.permute(1, 2, 0), 1).view(bs, -1)\n",
    "        outp = self.out(torch.cat([avg_pool, max_pool], dim=1))\n",
    "        return F.log_softmax(outp)\n",
    "\n",
    "    def init_hidden(self, batch_size):\n",
    "        if self.bidirectional:\n",
    "            return torch.zeros((2, batch_size, self.n_hidden)).to(device)\n",
    "        else:\n",
    "            return torch.zeros((1, batch_size, self.n_hidden)).to(device)\n",
    "\n",
    "\n",
    "def fit(model, train_dl, val_dl, loss_fn, opt, epochs=3):\n",
    "    num_batch = len(train_dl)\n",
    "    for epoch in range(epochs):\n",
    "        y_true_train = list()\n",
    "        y_pred_train = list()\n",
    "        total_loss_train = 0\n",
    "\n",
    "        t = tqdm(iter(train_dl), leave=False, total=num_batch)\n",
    "        for (X, lengths), y in t:\n",
    "            y_gpu=y.to(device)\n",
    "            X_gpu=X.to(device)\n",
    "            lengths_gpu=lengths.to(device)\n",
    "            t.set_description(f'Epoch {epoch}')\n",
    "            lengths = lengths\n",
    "\n",
    "            opt.zero_grad()\n",
    "            pred = model(X_gpu, lengths_gpu).to(device)\n",
    "            loss = loss_fn(pred, y_gpu).to(device)\n",
    "            loss.backward()\n",
    "            opt.step()\n",
    "\n",
    "            t.set_postfix(loss=loss.item())\n",
    "            pred_idx = torch.max(pred, dim=1)[1]\n",
    "\n",
    "            y_true_train += list(y.cpu().data.numpy())\n",
    "            y_pred_train += list(pred_idx.cpu().data.numpy())\n",
    "            total_loss_train += loss.item()\n",
    "\n",
    "\n",
    "        train_acc = accuracy_score(y_true_train, y_pred_train)\n",
    "        train_loss = total_loss_train / len(train_dl)\n",
    "\n",
    "        if val_dl:\n",
    "            y_true_val = list()\n",
    "            y_pred_val = list()\n",
    "            total_loss_val = 0\n",
    "            for (X, lengths), y in tqdm(val_dl, leave=False):\n",
    "                y_gpu = y.to(device)\n",
    "                X_gpu = X.to(device)\n",
    "                lengths_gpu = lengths.to(device)\n",
    "                pred = model(X_gpu, lengths_gpu)\n",
    "                loss = loss_fn(pred, y_gpu)\n",
    "                pred_idx = torch.max(pred, 1)[1]\n",
    "                y_true_val += list(y.cpu().data.numpy())\n",
    "                y_pred_val += list(pred_idx.cpu().data.numpy())\n",
    "                total_loss_val += loss.item()\n",
    "            valacc = accuracy_score(y_true_val, y_pred_val)\n",
    "            valloss = total_loss_val / len(valdl)\n",
    "            print(\n",
    "                f'Epoch {epoch}: train_loss: {train_loss:.4f} train_acc: {train_acc:.4f} | val_loss: {valloss:.4f} val_acc: {valacc:.4f}')\n",
    "        else:\n",
    "            print(f'Epoch {epoch}: train_loss: {train_loss:.4f} train_acc: {train_acc:.4f}')\n",
    "\n",
    "\n",
    "traindl, valdl = data.BucketIterator.splits(datasets=(trainds, valds), batch_sizes=(512,1024), sort_key=lambda x: len(x.SentimentText), sort_within_batch=True, repeat=False)\n",
    "train_batch_it = BatchGenerator(traindl, 'SentimentText', 'Sentiment')\n",
    "val_batch_it = BatchGenerator(valdl, 'SentimentText', 'Sentiment')"
   ]
  },
  {
   "cell_type": "code",
   "execution_count": 11,
   "metadata": {},
   "outputs": [
    {
     "data": {
      "text/plain": [
       "<All keys matched successfully>"
      ]
     },
     "execution_count": 11,
     "metadata": {},
     "output_type": "execute_result"
    }
   ],
   "source": [
    "model = GRU(vocab_size, embedding_dim, n_hidden, n_out, trainds.fields['SentimentText'].vocab.vectors)\n",
    "checkpoint = torch.load((r'C:\\Users\\Filip\\Desktop\\in\\m2.pt'))\n",
    "model.load_state_dict(checkpoint)"
   ]
  },
  {
   "cell_type": "code",
   "execution_count": 12,
   "metadata": {},
   "outputs": [],
   "source": [
    "\n",
    "def predict_sentiment(model, sentence):\n",
    "    model.eval()\n",
    "    tokenized = [tok.text for tok in nlp.tokenizer(sentence)]\n",
    "    indexed = [txt_field.vocab.stoi[t] for t in tokenized]\n",
    "    length = [len(indexed)]\n",
    "    tensor = torch.LongTensor(indexed).to(device)\n",
    "    tensor = tensor.unsqueeze(1).to(device)\n",
    "    length_tensor = torch.LongTensor(length).to(device)\n",
    "    pred=model(tensor, length_tensor)\n",
    "    pred_idx = torch.max(pred, dim=1)[1]\n",
    "    prediction = torch.sigmoid(pred+1)\n",
    "    return prediction,pred,pred_idx"
   ]
  },
  {
   "cell_type": "code",
   "execution_count": 13,
   "metadata": {},
   "outputs": [
    {
     "name": "stdout",
     "output_type": "stream",
     "text": [
      "tensor([[0.5937, 0.5569]], grad_fn=<SigmoidBackward>) tensor([[-0.6207, -0.7712]], grad_fn=<LogSoftmaxBackward>) tensor([0])\n",
      "tensor([[0.6502, 0.4621]], grad_fn=<SigmoidBackward>) tensor([[-0.3799, -1.1518]], grad_fn=<LogSoftmaxBackward>) tensor([0])\n",
      "tensor([[0.0375, 0.7282]], grad_fn=<SigmoidBackward>) tensor([[-4.2441, -0.0145]], grad_fn=<LogSoftmaxBackward>) tensor([1])\n"
     ]
    }
   ],
   "source": [
    "item,i,ii=predict_sentiment(model,\"father kills mother and 3 children in san diego murder suicide police say\")\n",
    "\n",
    "print(item,i,ii)\n",
    "\n",
    "item,i,ii=predict_sentiment(model,\"prince andrew breaks silence on jeffrey epstein letting royal family down\")\n",
    "\n",
    "print(item,i,ii)\n",
    "\n",
    "item,i,ii=predict_sentiment(model,\"good\")\n",
    "\n",
    "print(item,i,ii)"
   ]
  },
  {
   "cell_type": "code",
   "execution_count": 14,
   "metadata": {},
   "outputs": [],
   "source": [
    "\n",
    "\n",
    "def clean(path):\n",
    "    title=[]\n",
    "    ind=[]\n",
    "    title2=[]\n",
    "    f = open(path, \"r\")\n",
    "   \n",
    "\n",
    "\n",
    "    j=0\n",
    "    for i in f:\n",
    "        title.append(str(i))\n",
    "        title2.append(title[j].replace('\\n', ''))\n",
    "       \n",
    "        title2[j]=tweet_clean(title2[j]).lower()\n",
    "        j=j+1\n",
    "    return title2"
   ]
  },
  {
   "cell_type": "code",
   "execution_count": 16,
   "metadata": {},
   "outputs": [
    {
     "name": "stderr",
     "output_type": "stream",
     "text": [
      "450000lines [06:33, 1143.81lines/s]\n",
      "450000lines [10:45, 696.93lines/s] \n",
      "60000lines [01:24, 708.85lines/s] \n"
     ]
    }
   ],
   "source": [
    "from torchtext.datasets import text_classification\n",
    "from torch.utils.data import DataLoader\n",
    "from torch.utils.data.dataset import random_split\n",
    "NGRAMS2 = 2\n",
    "import os\n",
    "if not os.path.isdir('./.data'):\n",
    "    os.mkdir('./.data')\n",
    "train_dataset, test_dataset = text_classification.DATASETS['SogouNews'](\n",
    "    root='./.data', ngrams=NGRAMS2, vocab=None)\n",
    "BATCH_SIZE2 = 16"
   ]
  },
  {
   "cell_type": "code",
   "execution_count": 17,
   "metadata": {},
   "outputs": [],
   "source": [
    "class Category(nn.Module):\n",
    "    def __init__(self, vocab_size, embed_dim, num_class):\n",
    "        super().__init__()\n",
    "        self.embedding = nn.EmbeddingBag(vocab_size, embed_dim, sparse=True)\n",
    "        self.fc = nn.Linear(embed_dim, num_class)\n",
    "        self.init_weights()\n",
    "\n",
    "    def init_weights(self):\n",
    "        initrange = 0.5\n",
    "        self.embedding.weight.data.uniform_(-initrange, initrange)\n",
    "        self.fc.weight.data.uniform_(-initrange, initrange)\n",
    "        self.fc.bias.data.zero_()\n",
    "\n",
    "    def forward(self, text, offsets):\n",
    "        embedded = self.embedding(text, offsets)\n",
    "        return self.fc(embedded)\n",
    "\n"
   ]
  },
  {
   "cell_type": "code",
   "execution_count": 18,
   "metadata": {},
   "outputs": [],
   "source": [
    "\n",
    "VOCAB_SIZE2 = len(train_dataset.get_vocab())\n",
    "EMBED_DIM2 = 32\n",
    "NUN_CLASS2 = len(train_dataset.get_labels())\n",
    "model2 = Category(VOCAB_SIZE2, EMBED_DIM2, NUN_CLASS2).to(device)\n"
   ]
  },
  {
   "cell_type": "code",
   "execution_count": 19,
   "metadata": {},
   "outputs": [],
   "source": [
    "\n",
    "\n",
    "def generate_batch(batch):\n",
    "    label = torch.tensor([entry[0] for entry in batch])\n",
    "    text = [entry[1] for entry in batch]\n",
    "    offsets = [0] + [len(entry) for entry in text]\n",
    "\n",
    "    offsets = torch.tensor(offsets[:-1]).cumsum(dim=0)\n",
    "    text = torch.cat(text)\n",
    "    return text, offsets, label\n"
   ]
  },
  {
   "cell_type": "code",
   "execution_count": 20,
   "metadata": {},
   "outputs": [],
   "source": [
    "from torchtext.data.utils import ngrams_iterator\n",
    "from torchtext.data.utils import get_tokenizer\n",
    "\n",
    "SogouNews_label = {\n",
    "1 : \"Sports\",\n",
    "2 : \"Finance\",\n",
    "3 : \"Entertainment\",\n",
    "4 : \"Automobile\",\n",
    "5 : \"Technology\"}\n",
    "\n",
    "def predict(text, model, vocab, ngrams):\n",
    "    tokenizer = get_tokenizer(\"basic_english\")\n",
    "    with torch.no_grad():\n",
    "        text = torch.tensor([vocab[token]\n",
    "                            for token in ngrams_iterator(tokenizer(text), ngrams)])\n",
    "        output = model(text, torch.tensor([0]))\n",
    "        return output.argmax(1).item() + 1"
   ]
  },
  {
   "cell_type": "code",
   "execution_count": 21,
   "metadata": {},
   "outputs": [
    {
     "data": {
      "text/plain": [
       "<All keys matched successfully>"
      ]
     },
     "execution_count": 21,
     "metadata": {},
     "output_type": "execute_result"
    }
   ],
   "source": [
    "checkpoint2 = torch.load((r'C:\\Users\\Filip\\Desktop\\in\\clas2.pt'))\n",
    "model2.load_state_dict(checkpoint2)\n"
   ]
  },
  {
   "cell_type": "code",
   "execution_count": 23,
   "metadata": {},
   "outputs": [],
   "source": [
    "\n",
    "vocab2 = train_dataset.get_vocab()\n",
    "model2 = model2.to(\"cpu\")\n",
    "#print(\"This is a %s news\" %SogouNews_label[predict(ex_text_str, model2, vocab2, 2)])\n"
   ]
  },
  {
   "cell_type": "code",
   "execution_count": 24,
   "metadata": {},
   "outputs": [
    {
     "name": "stdout",
     "output_type": "stream",
     "text": [
      "0\n",
      "1\n",
      "2\n",
      "3\n",
      "4\n",
      "5\n",
      "6\n",
      "7\n",
      "8\n",
      "9\n",
      "10\n",
      "11\n",
      "12\n",
      "13\n",
      "14\n",
      "15\n",
      "16\n",
      "17\n",
      "18\n",
      "19\n",
      "20\n",
      "21\n",
      "22\n",
      "23\n",
      "24\n",
      "25\n",
      "26\n",
      "27\n",
      "28\n",
      "29\n"
     ]
    }
   ],
   "source": [
    "title=[]\n",
    "comp='amazon'\n",
    "for q in range (30):\n",
    "    print(q)\n",
    "    title.append(clean(f'{comp}/{q}{comp}.txt'))\n",
    "#print(title)"
   ]
  },
  {
   "cell_type": "code",
   "execution_count": 25,
   "metadata": {
    "scrolled": false
   },
   "outputs": [
    {
     "name": "stdout",
     "output_type": "stream",
     "text": [
      "0\n",
      "1\n",
      "2\n",
      "3\n",
      "4\n",
      "5\n",
      "6\n",
      "7\n",
      "8\n",
      "9\n",
      "10\n",
      "11\n",
      "12\n",
      "13\n",
      "14\n",
      "15\n",
      "16\n",
      "17\n",
      "18\n",
      "19\n",
      "20\n",
      "21\n",
      "22\n",
      "23\n",
      "24\n",
      "25\n",
      "26\n",
      "27\n",
      "28\n",
      "29\n"
     ]
    }
   ],
   "source": [
    "title_art=[]\n",
    "comp_art='amazonart'\n",
    "for q in range (30):\n",
    "    print(q)\n",
    "    title_art.append(clean(f'{comp_art}/{q}{comp_art}.txt'))\n",
    "#print(title_art)"
   ]
  },
  {
   "cell_type": "code",
   "execution_count": 26,
   "metadata": {},
   "outputs": [
    {
     "name": "stdout",
     "output_type": "stream",
     "text": [
      "0\n",
      "1\n",
      "2\n",
      "3\n",
      "4\n",
      "5\n",
      "6\n",
      "7\n",
      "8\n",
      "9\n",
      "10\n",
      "11\n",
      "12\n",
      "13\n",
      "14\n",
      "15\n",
      "16\n",
      "17\n",
      "18\n",
      "19\n",
      "20\n",
      "21\n",
      "22\n",
      "23\n",
      "24\n",
      "25\n",
      "26\n",
      "27\n",
      "28\n",
      "29\n"
     ]
    }
   ],
   "source": [
    "title_fin=[]\n",
    "comp_fin='amazonfin'\n",
    "for q in range (30):\n",
    "    print(q)\n",
    "    title_fin.append(clean(f'{comp_fin}/{q}{comp_fin}.txt'))"
   ]
  },
  {
   "cell_type": "code",
   "execution_count": 27,
   "metadata": {},
   "outputs": [
    {
     "name": "stdout",
     "output_type": "stream",
     "text": [
      "9.746065515093505 41.1508329808712 31.404767465777695 25\n",
      "18.626476211007684 51.30551415402442 32.67903794301674 31\n",
      "22.24597437866032 52.965671017766 30.719696639105678 38\n",
      "16.99160694051534 54.843364000320435 37.851757059805095 32\n",
      "27.709979504346848 55.03546095639467 27.325481452047825 40\n",
      "22.911756919696927 64.33122703805566 41.41947011835873 40\n",
      "17.71770125068724 36.34286329895258 18.625162048265338 25\n",
      "26.83811365813017 44.72055385261774 17.88244019448757 33\n",
      "22.317106776405126 71.50882405787706 49.19171728147194 43\n",
      "21.676925304345787 63.790180169045925 42.11325486470014 40\n",
      "22.21932804491371 47.4845365062356 25.26520846132189 32\n",
      "9.269094730028883 77.44615375995636 68.17705902992748 33\n",
      "18.023178029805422 39.06205156445503 21.03887353464961 29\n",
      "12.24393717199564 49.607237815856934 37.363300643861294 31\n",
      "19.189211801625788 56.081842705607414 36.892630903981626 33\n",
      "14.01322692586109 45.56156726926565 31.54834034340456 26\n",
      "14.495237437076867 77.05188575387001 62.556648316793144 40\n",
      "17.832967218011618 38.20205229520798 20.36908507719636 29\n",
      "24.78493971005082 51.28900158032775 26.504061870276928 33\n",
      "15.475883695296943 39.49560519307852 24.019721497781575 23\n",
      "14.371040359139442 54.07768922671676 39.706648867577314 31\n",
      "17.458302149549127 64.19775739312172 46.73945524357259 35\n",
      "19.082346349023283 74.071941845119 54.98959549609572 37\n",
      "17.438347769901156 38.90522460639477 21.46687683649361 27\n",
      "23.779699553735554 70.08019426837564 46.30049471464008 43\n",
      "16.281442345120013 66.31891326606274 50.037470920942724 37\n",
      "22.541799920611084 59.602878395468 37.06107847485691 37\n",
      "10.326892528682947 41.22964350879192 30.902750980108976 23\n",
      "23.57534332945943 54.63579489476979 31.06045156531036 37\n",
      "14.805362407118082 72.88746889680624 58.08210648968816 37\n",
      "[1.2561906986311078, 1.0541625142908626, 0.8084130694501495, 1.1828674081189092, 0.6831370363011956, 1.0354867529589682, 0.7450064819306135, 0.541892127105684, 1.1439934251505102, 1.0528313716175035, 0.7895377644163091, 2.065971485755378, 0.7254783977465383, 1.205267762705203, 1.1179585122418674, 1.21339770551556, 1.5639162079198285, 0.7023822440412538, 0.8031533900083918, 1.044335717294851, 1.2808596408895907, 1.335413006959217, 1.4862052836782627, 0.7950695124627264, 1.0767556910381415, 1.352364078944398, 1.0016507695907273, 1.3435978687003902, 0.839471663927307, 1.5697866618834637]\n"
     ]
    }
   ],
   "source": [
    "import numpy as np\n",
    "\n",
    "\n",
    "poss,negg,filtr_fin=[],[],[]\n",
    "for j in range (len(title)): \n",
    "    inn=[]\n",
    "    classification=[]\n",
    "    for i in range (len(title[j])):\n",
    "            classification.append(predict(title[j][i], model2, vocab2, 2))\n",
    "            if classification[i]==2:\n",
    "                inn.append(i)\n",
    "    #print(inn)\n",
    "    pos=0\n",
    "    neg=0\n",
    "    sq=0\n",
    "    for i in range (len(inn)):\n",
    "\n",
    "        a,b,c=predict_sentiment(model,title[j][inn[i]])\n",
    "        \n",
    "        neg=neg+abs(float(b[0][0]))\n",
    "        pos=pos+abs(float(b[0][1]))\n",
    "        \n",
    "        #if float(b[0][0])>float(b[0][1])\n",
    "        sq=sq+(abs((float(b[0][0])))+(float(b[0][1])))\n",
    "    print(pos,neg,sq,i)\n",
    "    poss.append(pos)\n",
    "    negg.append(neg)\n",
    "    filtr_fin.append(sq/i)\n",
    "print(filtr_fin)\n"
   ]
  },
  {
   "cell_type": "code",
   "execution_count": 28,
   "metadata": {},
   "outputs": [
    {
     "name": "stdout",
     "output_type": "stream",
     "text": [
      "7.7068075286224484 32.89518404006958 25.18837651144713 19 0\n",
      "7.224241659045219 12.730415013618767 5.506173354573548 8 1\n",
      "4.913449615240097 15.06997936964035 10.156529754400253 10 2\n",
      "10.695406110025942 34.781249925494194 24.08584381546825 21 3\n",
      "21.1126718968153 9.972660914063454 -11.140010982751846 15 4\n",
      "13.735357256606221 37.17970869317651 23.444351436570287 21 5\n",
      "7.4520614463835955 21.43650296330452 13.984441516920924 12 6\n",
      "19.903189938515425 22.405290430411696 2.5021004918962717 20 7\n",
      "3.552205815911293 18.663928151130676 15.111722335219383 9 8\n",
      "9.463898487389088 30.467633485794067 21.00373499840498 20 9\n",
      "17.747970843687654 19.608459658920765 1.8604888152331114 18 10\n",
      "3.237610572949052 22.81203192472458 19.574421351775527 11 11\n",
      "10.397455705329776 27.13520772010088 16.737752014771104 18 12\n",
      "5.114975199103355 14.769785940647125 9.65481074154377 10 13\n",
      "8.758545860648155 12.946408599615097 4.187862738966942 9 14\n",
      "5.802279527299106 23.1157024204731 17.313422893173993 13 15\n",
      "8.493795435875654 24.560916289687157 16.067120853811502 17 16\n",
      "8.539734773337841 18.861778140068054 10.322043366730213 14 17\n",
      "12.755059458315372 15.368301356211305 2.613241897895932 12 18\n",
      "16.439005691558123 22.60240240395069 6.163396712392569 19 19\n",
      "7.011256918311119 13.572488736361265 6.561231818050146 10 20\n",
      "7.468950819224119 31.82092870771885 24.35197788849473 18 21\n",
      "4.801612918730825 34.17984825372696 29.378235334996134 14 22\n",
      "6.435638569295406 12.302525952458382 5.866887383162975 8 23\n",
      "6.926725327968597 14.885453999042511 7.958728671073914 12 24\n",
      "12.087982038035989 34.393403854221106 22.305421816185117 20 25\n",
      "11.66721058730036 36.41806933283806 24.7508587455377 23 26\n",
      "9.091032907366753 22.743841633200645 13.652808725833893 15 27\n",
      "16.04488941654563 39.70788753218949 23.66299811564386 25 28\n",
      "12.988827496767044 18.66481050476432 5.675983007997274 12 29\n",
      "[1.32570402691827, 0.6882716693216935, 1.0156529754400254, 1.1469449435937262, -0.7426673988501231, 1.116397687455728, 1.165370126410077, 0.1251050245948136, 1.6790802594688203, 1.050186749920249, 0.10336048973517285, 1.7794928501614116, 0.929875111931728, 0.965481074154377, 0.46531808210743797, 1.331801761013384, 0.945124756106559, 0.737288811909301, 0.21777015815799436, 0.3243893006522405, 0.6561231818050146, 1.3528876604719295, 2.0984453810711523, 0.7333609228953719, 0.6632273892561594, 1.1152710908092558, 1.0761242932842479, 0.9101872483889262, 0.9465199246257544, 0.47299858399977285]\n"
     ]
    }
   ],
   "source": [
    "poss,negg,filtr_smieci=[],[],[]\n",
    "\n",
    "for j in range (len(title)):\n",
    "    sent,sent2=[],[] \n",
    "    inn=[]\n",
    "    classification=[]\n",
    "    for i in range (len(title[j])):\n",
    "            classification.append(predict(title[j][i], model2, vocab2, 2))\n",
    "            a,b,c=predict_sentiment(model,title[j][i])\n",
    "            \n",
    "            sent.append(a[0][0])\n",
    "    classification2=[]\n",
    "    index,index2=[],[]\n",
    "    for i in range (len(title_art[j])):\n",
    "            #print(i)\n",
    "            \n",
    "            classification2.append(predict(title_art[j][i], model2, vocab2, 2))\n",
    "            aa,b,c=predict_sentiment(model,title_art[j][i])\n",
    "            sent2.append(aa[0][0])\n",
    "            \n",
    "            if classification[i]==classification2[i] :\n",
    "                    index.append(i)\n",
    "            if (sent[i]-sent2[i])<0.15 and (sent[i]-sent2[i])>-0.15  :\n",
    "                index2.append(i)\n",
    "    #print(len(index2))\n",
    "    final_ind=list(set(index).intersection(index2))\n",
    "    #print(final_ind)\n",
    "    pos=0\n",
    "    neg=0\n",
    "    sq=0\n",
    "    for i in range (len(final_ind)):\n",
    "\n",
    "        a,b,c=predict_sentiment(model,title[j][final_ind[i]])\n",
    "        \n",
    "        neg=neg+abs(float(b[0][0]))\n",
    "        pos=pos+abs(float(b[0][1]))\n",
    "        \n",
    "        #if float(b[0][0])>float(b[0][1])\n",
    "        sq=sq+(abs((float(b[0][0])))+(float(b[0][1])))\n",
    "    print(pos,neg,sq,i,j)\n",
    "    poss.append(pos)\n",
    "    negg.append(neg)\n",
    "    filtr_smieci.append(sq/i)\n",
    "print(filtr_smieci)\n",
    "   \n",
    "  \n",
    "\n"
   ]
  },
  {
   "cell_type": "code",
   "execution_count": 29,
   "metadata": {},
   "outputs": [
    {
     "name": "stdout",
     "output_type": "stream",
     "text": [
      "41.02741896454245 174.28508280590177 133.25766384135932 99\n",
      "44.44371659634635 170.47587984520942 126.03216324886307 99\n",
      "46.42423800844699 161.41061679273844 114.98637878429145 99\n",
      "55.05734371114522 163.97984948195517 108.92250577080995 99\n",
      "55.24771979218349 157.8349627032876 102.58724291110411 99\n",
      "55.53585323598236 169.97509272396564 114.43923948798329 99\n",
      "57.71315300092101 151.66866025328636 93.95550725236535 99\n",
      "55.77691200282425 154.8505819980055 99.07366999518126 99\n",
      "52.372013348154724 171.28998717665672 118.917973828502 99\n",
      "52.264120371080935 179.9746447983198 127.71052442723885 99\n",
      "53.38071481697261 165.91760272532701 112.5368879083544 99\n",
      "38.884003126528114 203.73499371111393 164.85099058458582 99\n",
      "63.18994597857818 146.63847860693932 83.44853262836114 99\n",
      "46.529803320765495 155.59422589093447 109.06442257016897 99\n",
      "40.32389121991582 207.7026705686003 167.37877934868447 99\n",
      "46.43920829426497 189.3447433244437 142.90553503017873 99\n",
      "44.204953806474805 169.22721176221967 125.02225795574486 99\n",
      "47.367099771276116 161.00698833167553 113.63988856039941 99\n",
      "66.55797088611871 170.84227726887912 104.2843063827604 99\n",
      "55.22679174412042 175.65744303166866 120.43065128754824 99\n",
      "47.39506048336625 182.73305735737085 135.3379968740046 99\n",
      "45.12331264652312 177.03101436048746 131.90770171396434 99\n",
      "42.66559790447354 191.99113801307976 149.32554010860622 99\n",
      "48.260950438445434 170.48427868634462 122.22332824789919 99\n",
      "45.00624917354435 185.218645054847 140.21239588130265 99\n",
      "48.29192097205669 170.91720309108496 122.62528211902827 99\n",
      "52.01568410359323 164.94754419848323 112.93186009489 99\n",
      "43.36394330300391 169.0314927995205 125.66754949651659 99\n",
      "51.57960634492338 160.59296657331288 109.0133602283895 99\n",
      "41.755584253929555 197.5162129662931 155.76062871236354 99\n",
      "[1.3460370084985789, 1.27305215402892, 1.1614785735787014, 1.1002273310182824, 1.0362347768798394, 1.1559519140200332, 0.9490455278016702, 1.0007441413654672, 1.2011916548333534, 1.2900052972448368, 1.1367362414985294, 1.6651615210564223, 0.8429144709935468, 1.1016608340421108, 1.6906947408958029, 1.4434902528300881, 1.2628510904620693, 1.1478776622262568, 1.053376832149095, 1.21647122512675, 1.367050473474794, 1.3324010274137812, 1.5083387889758204, 1.2345790732111028, 1.416286827083865, 1.2386392133235178, 1.1407258595443435, 1.2693691868335009, 1.1011450528120152, 1.573339683963268]\n"
     ]
    }
   ],
   "source": [
    "poss,negg,wszystko_api=[],[],[]\n",
    "for j in range (len(title)): \n",
    "    pos=0\n",
    "    neg=0\n",
    "    sq=0\n",
    "    for i in range (len(title[j])):\n",
    "\n",
    "        a,b,c=predict_sentiment(model,title[j][i])\n",
    "        \n",
    "        neg=neg+abs(float(b[0][0]))\n",
    "        pos=pos+abs(float(b[0][1]))\n",
    "        \n",
    "        #if float(b[0][0])>float(b[0][1])\n",
    "        sq=sq+(abs((float(b[0][0])))+(float(b[0][1])))\n",
    "    print(pos,neg,sq,i)\n",
    "    poss.append(pos)\n",
    "    negg.append(neg)\n",
    "    wszystko_api.append(sq/i)\n",
    "print(wszystko_api)"
   ]
  },
  {
   "cell_type": "code",
   "execution_count": 30,
   "metadata": {},
   "outputs": [
    {
     "name": "stdout",
     "output_type": "stream",
     "text": [
      "35.86005739402026 143.9363076388836 108.07625024486333 78\n",
      "35.029197653755546 133.83365635573864 98.8044587019831 73\n",
      "41.04716355726123 90.07763515971601 49.03047160245478 60\n",
      "38.713297087699175 97.2709682378918 58.55767115019262 64\n",
      "6.100591726601124 14.031568735837936 7.930977009236813 10\n",
      "7.2011296562850475 25.496614538133144 18.295484881848097 15\n",
      "32.469868183135986 96.75497844815254 64.28511026501656 60\n",
      "28.97039754781872 55.96964248409495 26.999244936276227 38\n",
      "37.03817026410252 148.2052729204297 111.16710265632719 84\n",
      "44.06061391485855 104.21894477307796 60.158330858219415 68\n",
      "25.8787762215361 85.9534532725811 60.074677051045 49\n",
      "16.806824637576938 26.882551196962595 10.075726559385657 22\n",
      "7.256709614768624 29.78175586462021 22.525046249851584 17\n",
      "27.267809606390074 92.51378015615046 65.24597054976039 52\n",
      "25.70986808743328 99.68422113358974 73.97435304615647 54\n",
      "32.19455698179081 94.86753933876753 62.67298235697672 59\n",
      "33.10583630204201 80.49529580771923 47.38945950567722 61\n",
      "33.23958438169211 79.7469587251544 46.50737434346229 56\n",
      "6.461855340749025 21.288322061300278 14.826466720551252 13\n",
      "10.986054450273514 12.313134282827377 1.3270798325538635 12\n",
      "29.355521013960242 79.05387849360704 49.6983574796468 53\n",
      "22.944081872701645 100.13320244289935 77.1891205701977 54\n",
      "31.54326780466363 108.32330480217934 76.78003699751571 67\n",
      "20.007482537068427 86.46752375364304 66.46004121657461 50\n",
      "39.645049771294 115.49977115914226 75.85472138784826 73\n",
      "15.704556934535503 34.456328228116035 18.751771293580532 26\n",
      "16.352659184485674 39.42436318099499 23.071703996509314 27\n",
      "46.295519252540544 119.56311383098364 73.2675945784431 77\n",
      "39.16698062373325 120.122254896909 80.95527427317575 75\n",
      "34.33697929792106 94.45439962297678 60.11742032505572 64\n",
      "[1.385592951857222, 1.353485735643604, 0.8171745267075797, 0.9149636117217597, 0.7930977009236813, 1.2196989921232064, 1.0714185044169426, 0.7105064456914797, 1.3234178887658, 0.8846813361502855, 1.2260138173682653, 0.45798757088116626, 1.325002720579505, 1.2547302028800074, 1.3698954267806753, 1.0622539382538427, 0.7768763853389709, 0.8304888275618266, 1.140497440042404, 0.11058998604615529, 0.9377048581065435, 1.429428158707365, 1.1459707014554583, 1.3292008243314921, 1.0391057724362776, 0.7212219728300204, 0.8545075554262709, 0.9515272023174428, 1.0794036569756766, 0.9393346925789956]\n"
     ]
    }
   ],
   "source": [
    "poss,negg,fin_api=[],[],[]\n",
    "for j in range (len(title_fin)): \n",
    "    pos=0\n",
    "    neg=0\n",
    "    sq=0\n",
    "    for i in range (len(title_fin[j])):\n",
    "\n",
    "        a,b,c=predict_sentiment(model,title_fin[j][i])\n",
    "        \n",
    "        neg=neg+abs(float(b[0][0]))\n",
    "        pos=pos+abs(float(b[0][1]))\n",
    "        \n",
    "        #if float(b[0][0])>float(b[0][1])\n",
    "        sq=sq+(abs((float(b[0][0])))+(float(b[0][1])))\n",
    "    print(pos,neg,sq,i)\n",
    "    poss.append(pos)\n",
    "    negg.append(neg)\n",
    "    if i==0:\n",
    "        fin_api.append(0)\n",
    "    else:\n",
    "        \n",
    "        fin_api.append(sq/i)\n",
    "print(fin_api)"
   ]
  },
  {
   "cell_type": "code",
   "execution_count": 31,
   "metadata": {},
   "outputs": [
    {
     "data": {
      "text/plain": [
       "<Figure size 640x480 with 1 Axes>"
      ]
     },
     "metadata": {},
     "output_type": "display_data"
    },
    {
     "data": {
      "text/plain": [
       "<Figure size 640x480 with 1 Axes>"
      ]
     },
     "metadata": {},
     "output_type": "display_data"
    },
    {
     "data": {
      "text/plain": [
       "<Figure size 640x480 with 1 Axes>"
      ]
     },
     "metadata": {},
     "output_type": "display_data"
    },
    {
     "data": {
      "text/plain": [
       "<Figure size 640x480 with 1 Axes>"
      ]
     },
     "metadata": {},
     "output_type": "display_data"
    }
   ],
   "source": [
    "import matplotlib.pyplot as plt\n",
    "\n",
    "plt.plot(wszystko_api)\n",
    "plt.show()\n",
    "plt.plot(fin_api)\n",
    "plt.show()\n",
    "plt.plot(filtr_smieci)\n",
    "plt.show()\n",
    "plt.plot(filtr_fin)\n",
    "plt.show()\n"
   ]
  },
  {
   "cell_type": "code",
   "execution_count": 32,
   "metadata": {},
   "outputs": [
    {
     "name": "stdout",
     "output_type": "stream",
     "text": [
      "[*********************100%***********************]  1 of 1 completed\n",
      "                   Open         High          Low        Close    Adj Close  \\\n",
      "Date                                                                          \n",
      "2019-10-28  1748.060059  1778.699951  1742.500000  1777.079956  1777.079956   \n",
      "2019-10-29  1774.810059  1777.000000  1755.810059  1762.709961  1762.709961   \n",
      "2019-10-30  1760.239990  1782.380005  1759.119995  1779.989990  1779.989990   \n",
      "2019-10-31  1775.989990  1792.000000  1771.479980  1776.660034  1776.660034   \n",
      "2019-11-01  1788.010010  1797.449951  1785.209961  1791.439941  1791.439941   \n",
      "2019-11-04  1801.010010  1815.060059  1801.010010  1804.660034  1804.660034   \n",
      "2019-11-05  1809.160034  1810.250000  1794.000000  1801.709961  1801.709961   \n",
      "2019-11-06  1801.000000  1802.500000  1788.579956  1795.770020  1795.770020   \n",
      "2019-11-07  1803.760010  1805.900024  1783.479980  1788.199951  1788.199951   \n",
      "2019-11-08  1787.890015  1789.880005  1774.040039  1785.880005  1785.880005   \n",
      "2019-11-11  1778.000000  1780.000000  1767.130005  1771.650024  1771.650024   \n",
      "2019-11-12  1774.660034  1786.219971  1771.910034  1778.000000  1778.000000   \n",
      "2019-11-13  1773.390015  1775.000000  1747.319946  1753.109985  1753.109985   \n",
      "2019-11-14  1751.430054  1766.589966  1749.560059  1754.599976  1754.599976   \n",
      "2019-11-15  1760.050049  1761.680054  1732.859985  1739.489990  1739.489990   \n",
      "2019-11-18  1738.300049  1753.699951  1722.709961  1752.530029  1752.530029   \n",
      "2019-11-19  1756.989990  1760.680054  1743.030029  1752.790039  1752.790039   \n",
      "2019-11-20  1749.140015  1762.520020  1734.119995  1745.530029  1745.530029   \n",
      "2019-11-21  1743.000000  1746.869995  1730.359985  1734.709961  1734.709961   \n",
      "2019-11-22  1739.020020  1746.430054  1731.000000  1745.719971  1745.719971   \n",
      "2019-11-25  1753.250000  1777.420044  1753.239990  1773.839966  1773.839966   \n",
      "2019-11-26  1779.920044  1797.030029  1778.349976  1796.939941  1796.939941   \n",
      "\n",
      "             Volume  \n",
      "Date                 \n",
      "2019-10-28  3708900  \n",
      "2019-10-29  2276900  \n",
      "2019-10-30  2449400  \n",
      "2019-10-31  2781200  \n",
      "2019-11-01  2790400  \n",
      "2019-11-04  2771900  \n",
      "2019-11-05  1885500  \n",
      "2019-11-06  2029800  \n",
      "2019-11-07  2651100  \n",
      "2019-11-08  2123300  \n",
      "2019-11-11  1946000  \n",
      "2019-11-12  2037600  \n",
      "2019-11-13  2989500  \n",
      "2019-11-14  2264800  \n",
      "2019-11-15  3927600  \n",
      "2019-11-18  2839500  \n",
      "2019-11-19  2270800  \n",
      "2019-11-20  2790000  \n",
      "2019-11-21  2662900  \n",
      "2019-11-22  2479100  \n",
      "2019-11-25  3486200  \n",
      "2019-11-26  3181200  \n"
     ]
    },
    {
     "data": {
      "image/png": "[encoded data removed]",
      "text/plain": [
       "<Figure size 432x288 with 1 Axes>"
      ]
     },
     "metadata": {
      "needs_background": "light"
     },
     "output_type": "display_data"
    }
   ],
   "source": [
    "import yfinance as yf\n",
    "import numpy as np\n",
    "\n",
    "data = yf.download(\"AMZN\", start=\"2019-10-27\", end=\"2019-11-27\")#GOOG,DIS,NKE,AAPL\n",
    "\n",
    "print(data)\n",
    "\n",
    "plt.plot(data[data.columns[3]])\n",
    "plt.show()\n"
   ]
  },
  {
   "cell_type": "code",
   "execution_count": 34,
   "metadata": {},
   "outputs": [
    {
     "data": {
      "text/plain": [
       "<matplotlib.legend.Legend at 0x1e22df0bba8>"
      ]
     },
     "execution_count": 34,
     "metadata": {},
     "output_type": "execute_result"
    },
    {
     "data": {
      "image/png": "[encoded data removed]",
      "text/plain": [
       "<Figure size 432x288 with 2 Axes>"
      ]
     },
     "metadata": {
      "needs_background": "light"
     },
     "output_type": "display_data"
    }
   ],
   "source": [
    "import matplotlib.pyplot as plt\n",
    "import matplotlib.dates as mdates\n",
    "import numpy as np\n",
    "import datetime as dt\n",
    "\n",
    "#print(sqq)\n",
    "\n",
    "now = dt.date(2019,10, 27)\n",
    "then = now + dt.timedelta(days=30)\n",
    "days = mdates.drange(now,then,dt.timedelta(days=1))\n",
    "\n",
    "fig, ax1 = plt.subplots()\n",
    "\n",
    "color = 'tomato'\n",
    "ax1.set_ylabel('Sentyment (jednostki sentymentu)', fontsize=9)\n",
    "ax1.plot(days,wszystko_api,color=color,label=\"Sentyment\")\n",
    "ax1.tick_params(axis='y')\n",
    "fig.autofmt_xdate()\n",
    "\n",
    "ax2 = ax1.twinx() \n",
    "color = 'royalblue'\n",
    "ax2.set_ylabel('Cena akcji ($)', fontsize=9)  \n",
    "ax2.plot(data[data.columns[4]], color=color,label='Cena akcji')\n",
    "ax2.tick_params(axis='y')\n",
    "\n",
    "fig.tight_layout() \n",
    "plt.title(f'Cena akcji i sentyment dla {comp}', fontsize=9)\n",
    "\n",
    "ax2.legend(loc='best', bbox_to_anchor=(0.3,0.9))\n",
    "ax1.legend(loc='best', bbox_to_anchor=(0.3,1))\n",
    "#plt.savefig(f'{comp}akcje.png')\n",
    "#plt.savefig(f'{comp}akcje.eps', format='eps')\n"
   ]
  },
  {
   "cell_type": "code",
   "execution_count": 35,
   "metadata": {},
   "outputs": [
    {
     "data": {
      "image/png": "[encoded data removed]",
      "text/plain": [
       "<Figure size 432x288 with 2 Axes>"
      ]
     },
     "metadata": {
      "needs_background": "light"
     },
     "output_type": "display_data"
    }
   ],
   "source": [
    "import matplotlib.pyplot as plt\n",
    "import matplotlib.dates as mdates\n",
    "import numpy as np\n",
    "import datetime as dt\n",
    "\n",
    "\n",
    "\n",
    "\n",
    "np.random.seed(1)\n",
    "\n",
    "now = dt.date(2019,10, 27)\n",
    "then = now + dt.timedelta(days=30)\n",
    "days = mdates.drange(now,then,dt.timedelta(days=1))\n",
    "\n",
    "fig, ax1 = plt.subplots()\n",
    "\n",
    "color = 'tomato'\n",
    "ax1.set_ylabel('Sentyment (jednostki sentymentu)', fontsize=9)\n",
    "ax1.plot(days,fin_api,color=color,label=\"Sentyment\")\n",
    "ax1.tick_params(axis='y')\n",
    "fig.autofmt_xdate()\n",
    "\n",
    "ax2 = ax1.twinx() \n",
    "\n",
    "color = 'royalblue'\n",
    "ax2.set_ylabel('Cena akcji ($)', fontsize=9) \n",
    "ax2.plot(data[data.columns[4]], color=color,label='Cena akcji')\n",
    "ax2.tick_params(axis='y')\n",
    "\n",
    "fig.tight_layout()\n",
    "plt.title(f'Cena akcji i sentyment dla {comp}', fontsize=9)\n",
    "\n",
    "ax2.legend(loc='best', bbox_to_anchor=(0.3,0.2))\n",
    "ax1.legend(loc='best', bbox_to_anchor=(0.3,0.1))\n",
    "#plt.savefig(f'{comp}akcje.png')\n",
    "plt.savefig(f'{comp}akcje.eps', format='eps')\n"
   ]
  },
  {
   "cell_type": "code",
   "execution_count": 36,
   "metadata": {},
   "outputs": [
    {
     "data": {
      "text/plain": [
       "<matplotlib.legend.Legend at 0x1e22e0bfc88>"
      ]
     },
     "execution_count": 36,
     "metadata": {},
     "output_type": "execute_result"
    },
    {
     "data": {
      "image/png": "[encoded data removed]",
      "text/plain": [
       "<Figure size 432x288 with 2 Axes>"
      ]
     },
     "metadata": {
      "needs_background": "light"
     },
     "output_type": "display_data"
    }
   ],
   "source": [
    "import matplotlib.pyplot as plt\n",
    "import matplotlib.dates as mdates\n",
    "import numpy as np\n",
    "import datetime as dt\n",
    "\n",
    "\n",
    "\n",
    "np.random.seed(1)\n",
    "\n",
    "now = dt.date(2019,10, 27)\n",
    "then = now + dt.timedelta(days=30)\n",
    "days = mdates.drange(now,then,dt.timedelta(days=1))\n",
    "\n",
    "fig, ax1 = plt.subplots()\n",
    "\n",
    "color = 'tomato'\n",
    "ax1.set_ylabel('Sentyment (jednostki sentymentu)', fontsize=9)\n",
    "ax1.plot(days,filtr_fin,color=color,label=\"Sentyment\")\n",
    "ax1.tick_params(axis='y')\n",
    "fig.autofmt_xdate()\n",
    "\n",
    "ax2 = ax1.twinx() \n",
    "\n",
    "color = 'royalblue'\n",
    "ax2.set_ylabel('Cena akcji ($)', fontsize=9)\n",
    "ax2.plot(data[data.columns[4]], color=color,label='Cena akcji')\n",
    "ax2.tick_params(axis='y')\n",
    "\n",
    "fig.tight_layout() \n",
    "plt.title(f'Cena akcji i sentyment dla {comp}', fontsize=9)\n",
    "\n",
    "ax2.legend(loc='best', bbox_to_anchor=(0.3,0.9))\n",
    "ax1.legend(loc='best', bbox_to_anchor=(0.3,1))\n",
    "#plt.savefig(f'{comp}akcje.png')\n",
    "#plt.savefig(f'{comp}akcje.eps', format='eps')\n"
   ]
  },
  {
   "cell_type": "code",
   "execution_count": 37,
   "metadata": {},
   "outputs": [
    {
     "data": {
      "text/plain": [
       "<matplotlib.legend.Legend at 0x1e22e185b70>"
      ]
     },
     "execution_count": 37,
     "metadata": {},
     "output_type": "execute_result"
    },
    {
     "data": {
      "image/png": "[encoded data removed]",
      "text/plain": [
       "<Figure size 432x288 with 2 Axes>"
      ]
     },
     "metadata": {
      "needs_background": "light"
     },
     "output_type": "display_data"
    }
   ],
   "source": [
    "import matplotlib.pyplot as plt\n",
    "import matplotlib.dates as mdates\n",
    "import numpy as np\n",
    "import datetime as dt\n",
    "\n",
    "\n",
    "np.random.seed(1)\n",
    "\n",
    "now = dt.date(2019,10, 27)\n",
    "then = now + dt.timedelta(days=30)\n",
    "days = mdates.drange(now,then,dt.timedelta(days=1))\n",
    "\n",
    "fig, ax1 = plt.subplots()\n",
    "\n",
    "color = 'tomato'\n",
    "ax1.set_ylabel('Sentyment (jednostki sentymentu)', fontsize=9)\n",
    "ax1.plot(days,filtr_smieci,color=color,label=\"Sentyment\")\n",
    "ax1.tick_params(axis='y')\n",
    "fig.autofmt_xdate()\n",
    "\n",
    "\n",
    "ax2 = ax1.twinx() \n",
    "\n",
    "color = 'royalblue'\n",
    "ax2.set_ylabel('Cena akcji ($)', fontsize=9) \n",
    "ax2.plot(data[data.columns[4]], color=color,label='Cena akcji')\n",
    "ax2.tick_params(axis='y')\n",
    "\n",
    "fig.tight_layout()\n",
    "plt.title(f'Cena akcji i sentyment dla {comp}', fontsize=9)\n",
    "\n",
    "ax2.legend(loc='best', bbox_to_anchor=(0.3,0.9))\n",
    "ax1.legend(loc='best', bbox_to_anchor=(0.3,1))\n",
    "#plt.savefig(f'{comp}akcje.png')\n",
    "\n"
   ]
  },
  {
   "cell_type": "code",
   "execution_count": 38,
   "metadata": {},
   "outputs": [],
   "source": [
    "sqq2=(wszystko_api - np.min(wszystko_api))/np.ptp(wszystko_api)\n",
    "index=[0,1,8,9,14,15,21,22]\n",
    "wsz_api=np.delete(sqq2,index)\n",
    "stock=((data[data.columns[4]])-np.min(data[data.columns[4]]))/np.ptp(data[data.columns[4]])\n",
    "st=stock.tolist() \n",
    "#print((sqq2),(st))"
   ]
  },
  {
   "cell_type": "code",
   "execution_count": 39,
   "metadata": {},
   "outputs": [],
   "source": [
    "sqq2=(fin_api - np.min(fin_api))/np.ptp(fin_api)\n",
    "index=[0,1,8,9,14,15,21,22]\n",
    "fi_api=np.delete(sqq2,index)\n",
    "stock=((data[data.columns[4]])-np.min(data[data.columns[4]]))/np.ptp(data[data.columns[4]])\n",
    "st=stock.tolist() \n",
    "#print((sqq2),(st))"
   ]
  },
  {
   "cell_type": "code",
   "execution_count": 40,
   "metadata": {},
   "outputs": [],
   "source": [
    "sqq2=(filtr_fin - np.min(filtr_fin))/np.ptp(filtr_fin)\n",
    "index=[0,1,8,9,14,15,21,22]\n",
    "fil_fin=np.delete(sqq2,index)\n",
    "stock=((data[data.columns[4]])-np.min(data[data.columns[4]]))/np.ptp(data[data.columns[4]])\n",
    "st=stock.tolist() \n",
    "#print((sqq2),(st))"
   ]
  },
  {
   "cell_type": "code",
   "execution_count": 41,
   "metadata": {},
   "outputs": [],
   "source": [
    "sqq2=(filtr_smieci - np.min(filtr_smieci))/np.ptp(filtr_smieci)\n",
    "index=[0,1,8,9,14,15,21,22]\n",
    "fil_smi=np.delete(sqq2,index)\n",
    "stock=((data[data.columns[4]])-np.min(data[data.columns[4]]))/np.ptp(data[data.columns[4]])\n",
    "st=stock.tolist() \n",
    "#print((sqq2),(st))"
   ]
  },
  {
   "cell_type": "code",
   "execution_count": 42,
   "metadata": {},
   "outputs": [
    {
     "data": {
      "image/png": "[encoded data removed]",
      "text/plain": [
       "<Figure size 432x288 with 1 Axes>"
      ]
     },
     "metadata": {
      "needs_background": "light"
     },
     "output_type": "display_data"
    }
   ],
   "source": [
    "cr1=np.correlate(st,wsz_api,\"full\")\n",
    "cr2=np.correlate(st,fi_api,\"full\")\n",
    "cr3=np.correlate(st,fil_fin,\"full\")\n",
    "cr4=np.correlate(st,fil_smi,\"full\")\n",
    "#print(cr)\n",
    "xx=range(-21,22)\n",
    "plt.plot(xx,cr3,color=\"blue\",label=\"Wszystkie dane\")\n",
    "plt.plot(xx,cr1,color=\"red\",label=\"Pobrane dane z kategorii finansowej\")\n",
    "plt.plot(xx,cr2,color=\"green\",label=\"Klasyfikator danych finansowych\")\n",
    "plt.plot(xx,cr4,color=\"orange\",label=\"Filtr niezgodnych nagłówków\")\n",
    "plt.legend(prop={'size': 7})\n",
    "plt.xlabel('Opóźnienie sentymentu względem ceny akcji (dni)', fontsize=9)\n",
    "plt.ylabel('Współczynnik korelacji Pearsona', fontsize=9)\n",
    "plt.xticks(np.arange(min(xx), max(xx), 3.0),fontsize=8)\n",
    "plt.title(f'Znormalizowana korelacja wzajemna dla {comp}', fontsize=9)\n",
    "plt.grid()\n",
    "#plt.savefig(.png')\n",
    "#plt.savefig(f'{comp}korel.eps', format='eps')"
   ]
  },
  {
   "cell_type": "code",
   "execution_count": null,
   "metadata": {},
   "outputs": [],
   "source": []
  }
 ],
 "metadata": {
  "kernelspec": {
   "display_name": "Python 3",
   "language": "python",
   "name": "python3"
  },
  "language_info": {
   "codemirror_mode": {
    "name": "ipython",
    "version": 3
   },
   "file_extension": ".py",
   "mimetype": "text/x-python",
   "name": "python",
   "nbconvert_exporter": "python",
   "pygments_lexer": "ipython3",
   "version": "3.7.3"
  }
 },
 "nbformat": 4,
 "nbformat_minor": 2
}
